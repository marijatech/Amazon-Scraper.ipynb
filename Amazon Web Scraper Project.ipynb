{
 "cells": [
  {
   "cell_type": "code",
   "execution_count": 7,
   "id": "9186fd38-c2ba-463a-8bba-c3a8ffbe1f3a",
   "metadata": {},
   "outputs": [],
   "source": [
    "#import libraries\n",
    "\n",
    "from bs4 import BeautifulSoup\n",
    "import requests\n",
    "import time\n",
    "import datetime\n",
    "\n",
    "import smtplib"
   ]
  },
  {
   "cell_type": "code",
   "execution_count": null,
   "id": "eaadb3e9-0286-4b1b-84cc-928d86690806",
   "metadata": {},
   "outputs": [],
   "source": [
    "# Connect to Website and pull in data\n",
    "\n",
    "URL = 'https://www.amazon.com/Amazon-Essentials-Womens-Skinny-White/dp/B07J3F1WDL/ref=sr_1_1_ffob_sspa?_encoding=UTF8&content-id=amzn1.sym.56e14e61-447a-443b-9528-4b285fddeeac&crid=1TZCO6ZC2HZVA&dib=eyJ2IjoiMSJ9.CK2sJI0_X4BOHTC1HZiVrR1ctFR79dg_CXBxI1aWlm2a9EuNzIVpXfdVJjyma_7oaODz9ScVq3bcYVjxCLSUn8Ux5AtYEXzF4KGeY48twIUFrBvuiG3J6B-hHJy4QXViXhroLZKjM0wKEdGON8zFlgIpfNWzsSMux5qoKc5YTnl28pTF5vJMPk31ZCeVPCz0jMcYtSaJ24rIbc2YruiirLVxx0a2lfyFAiquhFrLp7bqcGyfCXkyX1bbYj65SQ3zlF5aFhUDcDvq8bf0ETYY19Y6BWUPx_OmgivKltQDSic.pwM7pf9xQOeGK_Ckb-fCrTABreS-CnZmAIYT1knRHYw&dib_tag=se&keywords=Jeans&pd_rd_r=63930c03-c11e-49e0-8025-ece538b361ec&pd_rd_w=aeVkB&pd_rd_wg=8jZ3r&pf_rd_p=56e14e61-447a-443b-9528-4b285fddeeac&pf_rd_r=EZ3M590PE5ANSEH6T6Y5&qid=1723740538&refinements=p_36%3A-5000&rnid=2941120011&s=apparel&sprefix=jeans%2Caps%2C155&sr=1-1-spons&sp_csd=d2lkZ2V0TmFtZT1zcF9hdGY&psc=1'\n",
    "\n",
    "headers = {\"User-Agent\": \"Mozilla/5.0 (Windows NT 10.0; Win64; x64) AppleWebKit/537.36 (KHTML, like Gecko) Chrome/78.0.3904.108 Safari/537.36\", \"Accept-Encoding\":\"gzip, deflate\", \"Accept\":\"text/html,application/xhtml+xml,application/xml;q=0.9,*/*;q=0.8\", \"DNT\":\"1\",\"Connection\":\"close\", \"Upgrade-Insecure-Requests\":\"1\"}\n",
    "\n",
    "page = requests.get(URL, headers=headers)\n",
    "\n",
    "soup1 = BeautifulSoup(page.content, \"html.parser\")\n",
    "\n",
    "soup2 = BeautifulSoup(soup1.prettify(), \"html.parser\")\n",
    "\n",
    "title = soup2.find(id='productTitle').get_text()\n",
    "rating = soup2.find(id='acrPopover').get_text()\n",
    "\n",
    "print(title)\n",
    "print(rating)"
   ]
  },
  {
   "cell_type": "code",
   "execution_count": 24,
   "id": "68328709-3690-4087-aef0-aeebfcd83413",
   "metadata": {},
   "outputs": [
    {
     "name": "stdout",
     "output_type": "stream",
     "text": [
      "4.3 4.3 out of 5 stars\n",
      "Funny Got Data MIS Data Systems Business Analyst T-Shirt\n"
     ]
    }
   ],
   "source": [
    "rating = ' '.join(rating.split())\n",
    "print(rating)\n",
    "title = title.strip() #reducing spaces\n",
    "print(title)\n",
    "\n"
   ]
  },
  {
   "cell_type": "code",
   "execution_count": 28,
   "id": "b8ee881c-66c3-49cf-9e1c-e31681f1d444",
   "metadata": {},
   "outputs": [
    {
     "name": "stdout",
     "output_type": "stream",
     "text": [
      "2024-08-14\n"
     ]
    }
   ],
   "source": [
    "# Create a Timestamp for your output to track when data was collected\n",
    "import datetime\n",
    "today = datetime.date.today()\n",
    "print(today)"
   ]
  },
  {
   "cell_type": "code",
   "execution_count": 26,
   "id": "5f5625a9-0b72-4a3c-82e8-8dc6078893a7",
   "metadata": {},
   "outputs": [],
   "source": [
    "# Create CSV and write headers and data into the file\n",
    "import csv\n",
    "\n",
    "header = ['Title', 'Rating']\n",
    "data = [title, rating]\n",
    "\n",
    "with open('AmazonWebScraper.csv', 'w', newline = '', encoding='UTF8') as f: #creating csv\n",
    "    writer = csv.writer(f)\n",
    "    writer.writerow(header) #inserting header\n",
    "    writer.writerow(data) #inserting data\n",
    "\n",
    "\n",
    "\n",
    "\n",
    "\n",
    "\n",
    "\n",
    "\n",
    "\n",
    "\n",
    "\n",
    "\n",
    "\n"
   ]
  },
  {
   "cell_type": "code",
   "execution_count": null,
   "id": "d3345289-4368-4d64-8bbf-1247e84f9b05",
   "metadata": {},
   "outputs": [],
   "source": [
    "import pandas as pd\n",
    "\n",
    "df = pd.read_csv(r'C:\\Users\\marij\\AmazonWebScraperDataset.csv')\n",
    "\n",
    "print(df)\n"
   ]
  },
  {
   "cell_type": "code",
   "execution_count": null,
   "id": "8491df0f-0771-4ebe-b68c-4ae1cc757c66",
   "metadata": {},
   "outputs": [],
   "source": [
    "#Now we are appending data to the csv\n",
    "\n",
    "with open('AmazonWebScraperDataset.csv', 'a+', newline='', encoding='UTF8') as f:\n",
    "    writer = csv.writer(f)\n",
    "    writer.writerow(data)"
   ]
  },
  {
   "cell_type": "code",
   "execution_count": 35,
   "id": "4a2e213e-0237-4ff9-818d-85e6d5e253f4",
   "metadata": {},
   "outputs": [],
   "source": [
    "def check_price():\n",
    "    URL = 'https://www.amazon.com/Funny-Data-Systems-Business-Analyst/dp/B07FNW9FGJ/ref=sr_1_3?dchild=1&keywords=data%2Banalyst%2Btshirt&qid=1626655184&sr=8-3&customId=B0752XJYNL&th=1'\n",
    "\n",
    "    headers = {\"User-Agent\": \"Mozilla/5.0 (Windows NT 10.0; Win64; x64) AppleWebKit/537.36 (KHTML, like Gecko) Chrome/78.0.3904.108 Safari/537.36\", \"Accept-Encoding\":\"gzip, deflate\", \"Accept\":\"text/html,application/xhtml+xml,application/xml;q=0.9,*/*;q=0.8\", \"DNT\":\"1\",\"Connection\":\"close\", \"Upgrade-Insecure-Requests\":\"1\"}\n",
    "\n",
    "    page = requests.get(URL, headers=headers)\n",
    "\n",
    "    soup1 = BeautifulSoup(page.content, \"html.parser\")\n",
    "\n",
    "    soup2 = BeautifulSoup(soup1.prettify(), \"html.parser\")\n",
    "\n",
    "    title = soup2.find(id='productTitle').get_text()\n",
    "\n",
    "    rating = soup2.find(id='acrPopover').get_text()\n",
    "\n",
    "    rating = ' '.join(rating.split())\n",
    "    print(rating)\n",
    "    title = title.strip() #reducing spaces\n",
    "    print(title)\n",
    "\n",
    "\n",
    "    import datetime\n",
    "\n",
    "    today = datetime.date.today()\n",
    "    \n",
    "    import csv \n",
    "\n",
    "    header = ['Title', 'Rating', 'Date']\n",
    "    data = [title, rating, today]\n",
    "\n",
    "    with open('AmazonWebScraperDataset.csv', 'a+', newline='', encoding='UTF8') as f:\n",
    "        writer = csv.writer(f)\n",
    "        writer.writerow(data)"
   ]
  },
  {
   "cell_type": "code",
   "execution_count": null,
   "id": "7c410c51-2d42-44ef-a886-c40106b817a2",
   "metadata": {},
   "outputs": [],
   "source": [
    "# Runs check_price after a set time and inputs data into your CSV\n",
    "\n",
    "while(True):\n",
    "    check_price()\n",
    "    time.sleep(86400)"
   ]
  },
  {
   "cell_type": "code",
   "execution_count": null,
   "id": "0e710ece-b033-4fd7-9b93-74fe66affcb5",
   "metadata": {},
   "outputs": [],
   "source": [
    "import pandas as pd\n",
    "df = pd.read_csv(r'C:\\Users\\marij\\AmazonWebScraperDataset.csv')\n",
    "print(df)"
   ]
  }
 ],
 "metadata": {
  "kernelspec": {
   "display_name": "Python 3 (ipykernel)",
   "language": "python",
   "name": "python3"
  },
  "language_info": {
   "codemirror_mode": {
    "name": "ipython",
    "version": 3
   },
   "file_extension": ".py",
   "mimetype": "text/x-python",
   "name": "python",
   "nbconvert_exporter": "python",
   "pygments_lexer": "ipython3",
   "version": "3.12.3"
  }
 },
 "nbformat": 4,
 "nbformat_minor": 5
}
